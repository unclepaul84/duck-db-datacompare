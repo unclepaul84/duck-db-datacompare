{
 "cells": [
  {
   "cell_type": "markdown",
   "metadata": {
    "notebookRunGroups": {
     "groupValue": "1"
    }
   },
   "source": [
    "## deltaLens Data Compare Sample"
   ]
  },
  {
   "cell_type": "code",
   "execution_count": 1,
   "metadata": {},
   "outputs": [],
   "source": [
    "#imports\n",
    "\n",
    "from delta_lens.deltaLens import DeltaLens, EntityComparer\n",
    "from delta_lens.config import Config, Entity, Side, Transform, Defaults,ReferenceDataset, load_config\n",
    "from delta_lens.sqliteExport import *\n",
    "from delta_lens.csvExport import *\n",
    "from datetime import date"
   ]
  },
  {
   "cell_type": "code",
   "execution_count": 2,
   "metadata": {},
   "outputs": [],
   "source": [
    "#config\n",
    "\n",
    "config = load_config(\"data/compare.config.json\")\n"
   ]
  },
  {
   "cell_type": "code",
   "execution_count": 3,
   "metadata": {},
   "outputs": [],
   "source": [
    "runName = f'tradeCompare_{date.today().strftime(\"%Y-%m-%d\")}'\n",
    "\n",
    "comparator = DeltaLens(runName,config)\n",
    "\n",
    "comparator.execute(continue_on_error=True)\n",
    "\n"
   ]
  },
  {
   "cell_type": "markdown",
   "metadata": {},
   "source": [
    "#### entity_compare_results\n",
    "Table containing summary of each entity comparison"
   ]
  },
  {
   "cell_type": "code",
   "execution_count": 4,
   "metadata": {},
   "outputs": [
    {
     "data": {
      "text/html": [
       "<div>\n",
       "<style scoped>\n",
       "    .dataframe tbody tr th:only-of-type {\n",
       "        vertical-align: middle;\n",
       "    }\n",
       "\n",
       "    .dataframe tbody tr th {\n",
       "        vertical-align: top;\n",
       "    }\n",
       "\n",
       "    .dataframe thead th {\n",
       "        text-align: right;\n",
       "    }\n",
       "</style>\n",
       "<table border=\"1\" class=\"dataframe\">\n",
       "  <thead>\n",
       "    <tr style=\"text-align: right;\">\n",
       "      <th></th>\n",
       "      <th>entity</th>\n",
       "      <th>rows_left</th>\n",
       "      <th>rows_right</th>\n",
       "      <th>rows_fully_matched</th>\n",
       "      <th>error_text</th>\n",
       "      <th>success</th>\n",
       "    </tr>\n",
       "  </thead>\n",
       "  <tbody>\n",
       "    <tr>\n",
       "      <th>0</th>\n",
       "      <td>trade</td>\n",
       "      <td>42999117</td>\n",
       "      <td>43000000</td>\n",
       "      <td>42113850</td>\n",
       "      <td>None</td>\n",
       "      <td>1</td>\n",
       "    </tr>\n",
       "  </tbody>\n",
       "</table>\n",
       "</div>"
      ],
      "text/plain": [
       "  entity  rows_left  rows_right  rows_fully_matched error_text  success\n",
       "0  trade   42999117    43000000            42113850       None        1"
      ]
     },
     "execution_count": 4,
     "metadata": {},
     "output_type": "execute_result"
    }
   ],
   "source": [
    "comparator.con.execute(\"SELECT * FROM  entity_compare_results\").fetch_df()"
   ]
  },
  {
   "cell_type": "markdown",
   "metadata": {},
   "source": [
    "#### [entitiy]_compare_field_summary\n",
    "Entity specific table containing summary of field comparison"
   ]
  },
  {
   "cell_type": "code",
   "execution_count": 5,
   "metadata": {},
   "outputs": [
    {
     "data": {
      "text/html": [
       "<div>\n",
       "<style scoped>\n",
       "    .dataframe tbody tr th:only-of-type {\n",
       "        vertical-align: middle;\n",
       "    }\n",
       "\n",
       "    .dataframe tbody tr th {\n",
       "        vertical-align: top;\n",
       "    }\n",
       "\n",
       "    .dataframe thead th {\n",
       "        text-align: right;\n",
       "    }\n",
       "</style>\n",
       "<table border=\"1\" class=\"dataframe\">\n",
       "  <thead>\n",
       "    <tr style=\"text-align: right;\">\n",
       "      <th></th>\n",
       "      <th>field</th>\n",
       "      <th>total</th>\n",
       "      <th>matches</th>\n",
       "      <th>match_percentage</th>\n",
       "    </tr>\n",
       "  </thead>\n",
       "  <tbody>\n",
       "    <tr>\n",
       "      <th>0</th>\n",
       "      <td>trade_type</td>\n",
       "      <td>42999117</td>\n",
       "      <td>42999117.0</td>\n",
       "      <td>100.000000</td>\n",
       "    </tr>\n",
       "    <tr>\n",
       "      <th>1</th>\n",
       "      <td>symbol</td>\n",
       "      <td>42999117</td>\n",
       "      <td>42999117.0</td>\n",
       "      <td>100.000000</td>\n",
       "    </tr>\n",
       "    <tr>\n",
       "      <th>2</th>\n",
       "      <td>quantity</td>\n",
       "      <td>42999117</td>\n",
       "      <td>42999117.0</td>\n",
       "      <td>100.000000</td>\n",
       "    </tr>\n",
       "    <tr>\n",
       "      <th>3</th>\n",
       "      <td>timestamp</td>\n",
       "      <td>42999117</td>\n",
       "      <td>42999117.0</td>\n",
       "      <td>100.000000</td>\n",
       "    </tr>\n",
       "    <tr>\n",
       "      <th>4</th>\n",
       "      <td>price</td>\n",
       "      <td>42999117</td>\n",
       "      <td>42113850.0</td>\n",
       "      <td>97.940002</td>\n",
       "    </tr>\n",
       "  </tbody>\n",
       "</table>\n",
       "</div>"
      ],
      "text/plain": [
       "        field     total     matches  match_percentage\n",
       "0  trade_type  42999117  42999117.0        100.000000\n",
       "1      symbol  42999117  42999117.0        100.000000\n",
       "2    quantity  42999117  42999117.0        100.000000\n",
       "3   timestamp  42999117  42999117.0        100.000000\n",
       "4       price  42999117  42113850.0         97.940002"
      ]
     },
     "execution_count": 5,
     "metadata": {},
     "output_type": "execute_result"
    }
   ],
   "source": [
    "comparator.con.execute(\"SELECT * FROM trade_compare_field_summary\").fetch_df()"
   ]
  },
  {
   "cell_type": "markdown",
   "metadata": {},
   "source": [
    "#### [entity]_compare\n",
    "Entity specific table containing details of comparison"
   ]
  },
  {
   "cell_type": "code",
   "execution_count": 6,
   "metadata": {},
   "outputs": [
    {
     "data": {
      "text/html": [
       "<div>\n",
       "<style scoped>\n",
       "    .dataframe tbody tr th:only-of-type {\n",
       "        vertical-align: middle;\n",
       "    }\n",
       "\n",
       "    .dataframe tbody tr th {\n",
       "        vertical-align: top;\n",
       "    }\n",
       "\n",
       "    .dataframe thead th {\n",
       "        text-align: right;\n",
       "    }\n",
       "</style>\n",
       "<table border=\"1\" class=\"dataframe\">\n",
       "  <thead>\n",
       "    <tr style=\"text-align: right;\">\n",
       "      <th></th>\n",
       "      <th>trade_id</th>\n",
       "      <th>trade_type_left</th>\n",
       "      <th>trade_type_right</th>\n",
       "      <th>trade_type_match</th>\n",
       "      <th>symbol_left</th>\n",
       "      <th>symbol_right</th>\n",
       "      <th>symbol_match</th>\n",
       "      <th>quantity_left</th>\n",
       "      <th>quantity_right</th>\n",
       "      <th>quantity_match</th>\n",
       "      <th>timestamp_left</th>\n",
       "      <th>timestamp_right</th>\n",
       "      <th>timestamp_match</th>\n",
       "      <th>price_left</th>\n",
       "      <th>price_right</th>\n",
       "      <th>price_match</th>\n",
       "      <th>_exists_left</th>\n",
       "      <th>_exists_right</th>\n",
       "      <th>_full_match</th>\n",
       "    </tr>\n",
       "  </thead>\n",
       "  <tbody>\n",
       "    <tr>\n",
       "      <th>0</th>\n",
       "      <td>2310919</td>\n",
       "      <td>BUY</td>\n",
       "      <td>BUY</td>\n",
       "      <td>True</td>\n",
       "      <td>MSFT</td>\n",
       "      <td>MSFT</td>\n",
       "      <td>True</td>\n",
       "      <td>180</td>\n",
       "      <td>180</td>\n",
       "      <td>True</td>\n",
       "      <td>2024-05-21 20:34:19</td>\n",
       "      <td>2024-05-21 20:34:19</td>\n",
       "      <td>True</td>\n",
       "      <td>786.57</td>\n",
       "      <td>179.74</td>\n",
       "      <td>False</td>\n",
       "      <td>True</td>\n",
       "      <td>True</td>\n",
       "      <td>False</td>\n",
       "    </tr>\n",
       "    <tr>\n",
       "      <th>1</th>\n",
       "      <td>14885155</td>\n",
       "      <td>BUY</td>\n",
       "      <td>BUY</td>\n",
       "      <td>True</td>\n",
       "      <td>TSLA</td>\n",
       "      <td>TSLA</td>\n",
       "      <td>True</td>\n",
       "      <td>5816</td>\n",
       "      <td>5816</td>\n",
       "      <td>True</td>\n",
       "      <td>2024-10-01 20:35:51</td>\n",
       "      <td>2024-10-01 20:35:51</td>\n",
       "      <td>True</td>\n",
       "      <td>941.70</td>\n",
       "      <td>831.15</td>\n",
       "      <td>False</td>\n",
       "      <td>True</td>\n",
       "      <td>True</td>\n",
       "      <td>False</td>\n",
       "    </tr>\n",
       "    <tr>\n",
       "      <th>2</th>\n",
       "      <td>29397447</td>\n",
       "      <td>SELL</td>\n",
       "      <td>SELL</td>\n",
       "      <td>True</td>\n",
       "      <td>NVDA</td>\n",
       "      <td>NVDA</td>\n",
       "      <td>True</td>\n",
       "      <td>5216</td>\n",
       "      <td>5216</td>\n",
       "      <td>True</td>\n",
       "      <td>2024-09-15 20:37:39</td>\n",
       "      <td>2024-09-15 20:37:39</td>\n",
       "      <td>True</td>\n",
       "      <td>735.65</td>\n",
       "      <td>506.85</td>\n",
       "      <td>False</td>\n",
       "      <td>True</td>\n",
       "      <td>True</td>\n",
       "      <td>False</td>\n",
       "    </tr>\n",
       "    <tr>\n",
       "      <th>3</th>\n",
       "      <td>29514608</td>\n",
       "      <td>SELL</td>\n",
       "      <td>SELL</td>\n",
       "      <td>True</td>\n",
       "      <td>WMT</td>\n",
       "      <td>WMT</td>\n",
       "      <td>True</td>\n",
       "      <td>6835</td>\n",
       "      <td>6835</td>\n",
       "      <td>True</td>\n",
       "      <td>2024-07-22 20:37:39</td>\n",
       "      <td>2024-07-22 20:37:39</td>\n",
       "      <td>True</td>\n",
       "      <td>646.86</td>\n",
       "      <td>572.69</td>\n",
       "      <td>False</td>\n",
       "      <td>True</td>\n",
       "      <td>True</td>\n",
       "      <td>False</td>\n",
       "    </tr>\n",
       "    <tr>\n",
       "      <th>4</th>\n",
       "      <td>38084072</td>\n",
       "      <td>SELL</td>\n",
       "      <td>SELL</td>\n",
       "      <td>True</td>\n",
       "      <td>MSFT</td>\n",
       "      <td>MSFT</td>\n",
       "      <td>True</td>\n",
       "      <td>1978</td>\n",
       "      <td>1978</td>\n",
       "      <td>True</td>\n",
       "      <td>2024-06-07 20:38:43</td>\n",
       "      <td>2024-06-07 20:38:43</td>\n",
       "      <td>True</td>\n",
       "      <td>57.16</td>\n",
       "      <td>340.83</td>\n",
       "      <td>False</td>\n",
       "      <td>True</td>\n",
       "      <td>True</td>\n",
       "      <td>False</td>\n",
       "    </tr>\n",
       "  </tbody>\n",
       "</table>\n",
       "</div>"
      ],
      "text/plain": [
       "   trade_id trade_type_left trade_type_right  trade_type_match symbol_left  \\\n",
       "0   2310919             BUY              BUY              True        MSFT   \n",
       "1  14885155             BUY              BUY              True        TSLA   \n",
       "2  29397447            SELL             SELL              True        NVDA   \n",
       "3  29514608            SELL             SELL              True         WMT   \n",
       "4  38084072            SELL             SELL              True        MSFT   \n",
       "\n",
       "  symbol_right  symbol_match  quantity_left  quantity_right  quantity_match  \\\n",
       "0         MSFT          True            180             180            True   \n",
       "1         TSLA          True           5816            5816            True   \n",
       "2         NVDA          True           5216            5216            True   \n",
       "3          WMT          True           6835            6835            True   \n",
       "4         MSFT          True           1978            1978            True   \n",
       "\n",
       "       timestamp_left     timestamp_right  timestamp_match  price_left  \\\n",
       "0 2024-05-21 20:34:19 2024-05-21 20:34:19             True      786.57   \n",
       "1 2024-10-01 20:35:51 2024-10-01 20:35:51             True      941.70   \n",
       "2 2024-09-15 20:37:39 2024-09-15 20:37:39             True      735.65   \n",
       "3 2024-07-22 20:37:39 2024-07-22 20:37:39             True      646.86   \n",
       "4 2024-06-07 20:38:43 2024-06-07 20:38:43             True       57.16   \n",
       "\n",
       "   price_right  price_match  _exists_left  _exists_right  _full_match  \n",
       "0       179.74        False          True           True        False  \n",
       "1       831.15        False          True           True        False  \n",
       "2       506.85        False          True           True        False  \n",
       "3       572.69        False          True           True        False  \n",
       "4       340.83        False          True           True        False  "
      ]
     },
     "execution_count": 6,
     "metadata": {},
     "output_type": "execute_result"
    }
   ],
   "source": [
    "comparator.con.execute(\" WITH CTE as (SELECT * FROM  trade_compare WHERE _full_match = 0) SELECT * FROM CTE USING SAMPLE 5;\").fetch_df()"
   ]
  },
  {
   "cell_type": "markdown",
   "metadata": {},
   "source": [
    "#### Export to sqlite\n",
    "Function to export above tables to on-disk format. Sqlite is a popular single file database, well supported in many languages,  for which lots of query tools exist. See [Datasette](https://datasette.io/) package."
   ]
  },
  {
   "cell_type": "code",
   "execution_count": 7,
   "metadata": {},
   "outputs": [
    {
     "ename": "FileExistsError",
     "evalue": "SQLite database file 'tradeCompare_2025-02-21.sqlite' already exists",
     "output_type": "error",
     "traceback": [
      "\u001b[1;31m---------------------------------------------------------------------------\u001b[0m",
      "\u001b[1;31mFileExistsError\u001b[0m                           Traceback (most recent call last)",
      "Cell \u001b[1;32mIn[7], line 1\u001b[0m\n\u001b[1;32m----> 1\u001b[0m \u001b[43mexport_to_sqlite\u001b[49m\u001b[43m(\u001b[49m\u001b[43mcomparator\u001b[49m\u001b[38;5;241;43m.\u001b[39;49m\u001b[43mcon\u001b[49m\u001b[43m,\u001b[49m\u001b[43m \u001b[49m\u001b[38;5;124;43mf\u001b[39;49m\u001b[38;5;124;43m'\u001b[39;49m\u001b[38;5;132;43;01m{\u001b[39;49;00m\u001b[43mrunName\u001b[49m\u001b[38;5;132;43;01m}\u001b[39;49;00m\u001b[38;5;124;43m.sqlite\u001b[39;49m\u001b[38;5;124;43m'\u001b[39;49m\u001b[43m)\u001b[49m\n",
      "File \u001b[1;32mc:\\Users\\paul_\\dev\\duck-db-datacompare\\delta_lens\\sqliteExport.py:28\u001b[0m, in \u001b[0;36mexport_to_sqlite\u001b[1;34m(conn, sqlite_db_path, sample_threshold, table_filter, mismatches_only)\u001b[0m\n\u001b[0;32m     26\u001b[0m \u001b[38;5;66;03m# Check if SQLite file exists and raise error\u001b[39;00m\n\u001b[0;32m     27\u001b[0m \u001b[38;5;28;01mif\u001b[39;00m os\u001b[38;5;241m.\u001b[39mpath\u001b[38;5;241m.\u001b[39mexists(sqlite_db_path):\n\u001b[1;32m---> 28\u001b[0m     \u001b[38;5;28;01mraise\u001b[39;00m \u001b[38;5;167;01mFileExistsError\u001b[39;00m(\u001b[38;5;124mf\u001b[39m\u001b[38;5;124m\"\u001b[39m\u001b[38;5;124mSQLite database file \u001b[39m\u001b[38;5;124m'\u001b[39m\u001b[38;5;132;01m{\u001b[39;00msqlite_db_path\u001b[38;5;132;01m}\u001b[39;00m\u001b[38;5;124m'\u001b[39m\u001b[38;5;124m already exists\u001b[39m\u001b[38;5;124m\"\u001b[39m)\n\u001b[0;32m     30\u001b[0m \u001b[38;5;28;01mif\u001b[39;00m table_filter \u001b[38;5;129;01mis\u001b[39;00m \u001b[38;5;28;01mNone\u001b[39;00m:\n\u001b[0;32m     31\u001b[0m     table_filter \u001b[38;5;241m=\u001b[39m \u001b[38;5;28;01mlambda\u001b[39;00m table: table\u001b[38;5;241m.\u001b[39mendswith(\u001b[38;5;124m\"\u001b[39m\u001b[38;5;124m_compare_field_summary\u001b[39m\u001b[38;5;124m\"\u001b[39m) \u001b[38;5;129;01mor\u001b[39;00m table\u001b[38;5;241m.\u001b[39mendswith(\u001b[38;5;124m\"\u001b[39m\u001b[38;5;124mentity_compare_results\u001b[39m\u001b[38;5;124m\"\u001b[39m) \u001b[38;5;129;01mor\u001b[39;00m  table\u001b[38;5;241m.\u001b[39mendswith(\u001b[38;5;124m\"\u001b[39m\u001b[38;5;124m_compare\u001b[39m\u001b[38;5;124m\"\u001b[39m)\n",
      "\u001b[1;31mFileExistsError\u001b[0m: SQLite database file 'tradeCompare_2025-02-21.sqlite' already exists"
     ]
    }
   ],
   "source": [
    "export_to_sqlite(comparator.con, f'{runName}.sqlite')"
   ]
  },
  {
   "cell_type": "code",
   "execution_count": null,
   "metadata": {},
   "outputs": [
    {
     "data": {
      "text/plain": [
       "'tradeCompare_2025-02-21.tar.gz'"
      ]
     },
     "execution_count": 8,
     "metadata": {},
     "output_type": "execute_result"
    }
   ],
   "source": [
    "export_to_csv_archive(comparator.con,f'{runName}.tar.gz' )"
   ]
  }
 ],
 "metadata": {
  "kernelspec": {
   "display_name": "venv",
   "language": "python",
   "name": "python3"
  },
  "language_info": {
   "codemirror_mode": {
    "name": "ipython",
    "version": 3
   },
   "file_extension": ".py",
   "mimetype": "text/x-python",
   "name": "python",
   "nbconvert_exporter": "python",
   "pygments_lexer": "ipython3",
   "version": "3.12.0"
  }
 },
 "nbformat": 4,
 "nbformat_minor": 2
}
