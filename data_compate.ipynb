{
 "cells": [
  {
   "cell_type": "markdown",
   "metadata": {
    "notebookRunGroups": {
     "groupValue": "1"
    }
   },
   "source": [
    "## deltaLens Data Compare Sample"
   ]
  },
  {
   "cell_type": "code",
   "execution_count": 1,
   "metadata": {},
   "outputs": [],
   "source": [
    "#imports\n",
    "\n",
    "from delta_lens.deltaLens import DeltaLens, EntityComparer\n",
    "from delta_lens.config import Config, Entity, Side, Transform, Defaults,ReferenceDataset, load_config\n",
    "from delta_lens.sqliteExport import *\n",
    "from datetime import date"
   ]
  },
  {
   "cell_type": "code",
   "execution_count": 2,
   "metadata": {},
   "outputs": [],
   "source": [
    "#config\n",
    "\n",
    "config = load_config(\"compare.config.json\")\n"
   ]
  },
  {
   "cell_type": "code",
   "execution_count": 3,
   "metadata": {},
   "outputs": [],
   "source": [
    "runName = f'tradeCompare_{date.today().strftime(\"%Y-%m-%d\")}'\n",
    "\n",
    "comparator = DeltaLens(runName,config)\n",
    "\n",
    "comparator.execute(continue_on_error=True)\n",
    "\n"
   ]
  },
  {
   "cell_type": "markdown",
   "metadata": {},
   "source": [
    "#### entity_compare_results\n",
    "Table containing summary of each entity comparison"
   ]
  },
  {
   "cell_type": "code",
   "execution_count": 8,
   "metadata": {},
   "outputs": [
    {
     "data": {
      "text/html": [
       "<div>\n",
       "<style scoped>\n",
       "    .dataframe tbody tr th:only-of-type {\n",
       "        vertical-align: middle;\n",
       "    }\n",
       "\n",
       "    .dataframe tbody tr th {\n",
       "        vertical-align: top;\n",
       "    }\n",
       "\n",
       "    .dataframe thead th {\n",
       "        text-align: right;\n",
       "    }\n",
       "</style>\n",
       "<table border=\"1\" class=\"dataframe\">\n",
       "  <thead>\n",
       "    <tr style=\"text-align: right;\">\n",
       "      <th></th>\n",
       "      <th>entity</th>\n",
       "      <th>rows_left</th>\n",
       "      <th>rows_right</th>\n",
       "      <th>rows_fully_matched</th>\n",
       "      <th>error_text</th>\n",
       "      <th>success</th>\n",
       "    </tr>\n",
       "  </thead>\n",
       "  <tbody>\n",
       "    <tr>\n",
       "      <th>0</th>\n",
       "      <td>trade</td>\n",
       "      <td>42911440</td>\n",
       "      <td>42999117</td>\n",
       "      <td>0</td>\n",
       "      <td>None</td>\n",
       "      <td>1</td>\n",
       "    </tr>\n",
       "  </tbody>\n",
       "</table>\n",
       "</div>"
      ],
      "text/plain": [
       "  entity  rows_left  rows_right  rows_fully_matched error_text  success\n",
       "0  trade   42911440    42999117                   0       None        1"
      ]
     },
     "execution_count": 8,
     "metadata": {},
     "output_type": "execute_result"
    }
   ],
   "source": [
    "comparator.con.execute(\"SELECT * FROM  entity_compare_results\").fetch_df()"
   ]
  },
  {
   "cell_type": "markdown",
   "metadata": {},
   "source": [
    "#### [entitiy]_compare_field_summary\n",
    "Entity specific table containing summary of field comparison"
   ]
  },
  {
   "cell_type": "code",
   "execution_count": 12,
   "metadata": {},
   "outputs": [
    {
     "data": {
      "text/html": [
       "<div>\n",
       "<style scoped>\n",
       "    .dataframe tbody tr th:only-of-type {\n",
       "        vertical-align: middle;\n",
       "    }\n",
       "\n",
       "    .dataframe tbody tr th {\n",
       "        vertical-align: top;\n",
       "    }\n",
       "\n",
       "    .dataframe thead th {\n",
       "        text-align: right;\n",
       "    }\n",
       "</style>\n",
       "<table border=\"1\" class=\"dataframe\">\n",
       "  <thead>\n",
       "    <tr style=\"text-align: right;\">\n",
       "      <th></th>\n",
       "      <th>field</th>\n",
       "      <th>total</th>\n",
       "      <th>matches</th>\n",
       "      <th>match_percentage</th>\n",
       "    </tr>\n",
       "  </thead>\n",
       "  <tbody>\n",
       "    <tr>\n",
       "      <th>0</th>\n",
       "      <td>price</td>\n",
       "      <td>42910557</td>\n",
       "      <td>429.0</td>\n",
       "      <td>0.00</td>\n",
       "    </tr>\n",
       "    <tr>\n",
       "      <th>1</th>\n",
       "      <td>quantity</td>\n",
       "      <td>42910557</td>\n",
       "      <td>4369.0</td>\n",
       "      <td>0.01</td>\n",
       "    </tr>\n",
       "    <tr>\n",
       "      <th>2</th>\n",
       "      <td>trade_type</td>\n",
       "      <td>42910557</td>\n",
       "      <td>21453185.0</td>\n",
       "      <td>50.00</td>\n",
       "    </tr>\n",
       "    <tr>\n",
       "      <th>3</th>\n",
       "      <td>symbol</td>\n",
       "      <td>42910557</td>\n",
       "      <td>4291135.0</td>\n",
       "      <td>10.00</td>\n",
       "    </tr>\n",
       "    <tr>\n",
       "      <th>4</th>\n",
       "      <td>timestamp</td>\n",
       "      <td>42910557</td>\n",
       "      <td>0.0</td>\n",
       "      <td>0.00</td>\n",
       "    </tr>\n",
       "  </tbody>\n",
       "</table>\n",
       "</div>"
      ],
      "text/plain": [
       "        field     total     matches  match_percentage\n",
       "0       price  42910557       429.0              0.00\n",
       "1    quantity  42910557      4369.0              0.01\n",
       "2  trade_type  42910557  21453185.0             50.00\n",
       "3      symbol  42910557   4291135.0             10.00\n",
       "4   timestamp  42910557         0.0              0.00"
      ]
     },
     "execution_count": 12,
     "metadata": {},
     "output_type": "execute_result"
    }
   ],
   "source": [
    "comparator.con.execute(\"SELECT * FROM trade_compare_field_summary\").fetch_df()"
   ]
  },
  {
   "cell_type": "markdown",
   "metadata": {},
   "source": [
    "#### [entity]_compare\n",
    "Entity specific table containing details of comparison"
   ]
  },
  {
   "cell_type": "code",
   "execution_count": 13,
   "metadata": {},
   "outputs": [
    {
     "data": {
      "text/html": [
       "<div>\n",
       "<style scoped>\n",
       "    .dataframe tbody tr th:only-of-type {\n",
       "        vertical-align: middle;\n",
       "    }\n",
       "\n",
       "    .dataframe tbody tr th {\n",
       "        vertical-align: top;\n",
       "    }\n",
       "\n",
       "    .dataframe thead th {\n",
       "        text-align: right;\n",
       "    }\n",
       "</style>\n",
       "<table border=\"1\" class=\"dataframe\">\n",
       "  <thead>\n",
       "    <tr style=\"text-align: right;\">\n",
       "      <th></th>\n",
       "      <th>trade_id</th>\n",
       "      <th>price_left</th>\n",
       "      <th>price_right</th>\n",
       "      <th>price_match</th>\n",
       "      <th>quantity_left</th>\n",
       "      <th>quantity_right</th>\n",
       "      <th>quantity_match</th>\n",
       "      <th>trade_type_left</th>\n",
       "      <th>trade_type_right</th>\n",
       "      <th>trade_type_match</th>\n",
       "      <th>symbol_left</th>\n",
       "      <th>symbol_right</th>\n",
       "      <th>symbol_match</th>\n",
       "      <th>timestamp_left</th>\n",
       "      <th>timestamp_right</th>\n",
       "      <th>timestamp_match</th>\n",
       "      <th>_exists_left</th>\n",
       "      <th>_exists_right</th>\n",
       "      <th>_full_match</th>\n",
       "    </tr>\n",
       "  </thead>\n",
       "  <tbody>\n",
       "    <tr>\n",
       "      <th>0</th>\n",
       "      <td>12042125</td>\n",
       "      <td>757.56</td>\n",
       "      <td>826.51</td>\n",
       "      <td>False</td>\n",
       "      <td>3745</td>\n",
       "      <td>9777</td>\n",
       "      <td>False</td>\n",
       "      <td>BUY</td>\n",
       "      <td>BUY</td>\n",
       "      <td>True</td>\n",
       "      <td>WMT</td>\n",
       "      <td>JPM</td>\n",
       "      <td>False</td>\n",
       "      <td>2024-11-27 21:25:59</td>\n",
       "      <td>2024-06-08 20:35:31</td>\n",
       "      <td>False</td>\n",
       "      <td>True</td>\n",
       "      <td>True</td>\n",
       "      <td>False</td>\n",
       "    </tr>\n",
       "    <tr>\n",
       "      <th>1</th>\n",
       "      <td>14395215</td>\n",
       "      <td>488.92</td>\n",
       "      <td>538.41</td>\n",
       "      <td>False</td>\n",
       "      <td>6541</td>\n",
       "      <td>3265</td>\n",
       "      <td>False</td>\n",
       "      <td>SELL</td>\n",
       "      <td>SELL</td>\n",
       "      <td>True</td>\n",
       "      <td>META</td>\n",
       "      <td>JPM</td>\n",
       "      <td>False</td>\n",
       "      <td>2024-12-21 21:26:14</td>\n",
       "      <td>2024-10-26 20:35:48</td>\n",
       "      <td>False</td>\n",
       "      <td>True</td>\n",
       "      <td>True</td>\n",
       "      <td>False</td>\n",
       "    </tr>\n",
       "    <tr>\n",
       "      <th>2</th>\n",
       "      <td>21767594</td>\n",
       "      <td>845.22</td>\n",
       "      <td>192.96</td>\n",
       "      <td>False</td>\n",
       "      <td>2187</td>\n",
       "      <td>6797</td>\n",
       "      <td>False</td>\n",
       "      <td>BUY</td>\n",
       "      <td>SELL</td>\n",
       "      <td>False</td>\n",
       "      <td>AMZN</td>\n",
       "      <td>WMT</td>\n",
       "      <td>False</td>\n",
       "      <td>2024-06-12 21:27:01</td>\n",
       "      <td>2024-08-16 20:36:42</td>\n",
       "      <td>False</td>\n",
       "      <td>True</td>\n",
       "      <td>True</td>\n",
       "      <td>False</td>\n",
       "    </tr>\n",
       "    <tr>\n",
       "      <th>3</th>\n",
       "      <td>24120271</td>\n",
       "      <td>46.75</td>\n",
       "      <td>315.96</td>\n",
       "      <td>False</td>\n",
       "      <td>8141</td>\n",
       "      <td>8026</td>\n",
       "      <td>False</td>\n",
       "      <td>SELL</td>\n",
       "      <td>BUY</td>\n",
       "      <td>False</td>\n",
       "      <td>AMZN</td>\n",
       "      <td>MSFT</td>\n",
       "      <td>False</td>\n",
       "      <td>2025-01-18 21:27:17</td>\n",
       "      <td>2024-12-05 20:37:00</td>\n",
       "      <td>False</td>\n",
       "      <td>True</td>\n",
       "      <td>True</td>\n",
       "      <td>False</td>\n",
       "    </tr>\n",
       "    <tr>\n",
       "      <th>4</th>\n",
       "      <td>1705259</td>\n",
       "      <td>175.34</td>\n",
       "      <td>197.19</td>\n",
       "      <td>False</td>\n",
       "      <td>4009</td>\n",
       "      <td>3961</td>\n",
       "      <td>False</td>\n",
       "      <td>SELL</td>\n",
       "      <td>BUY</td>\n",
       "      <td>False</td>\n",
       "      <td>AMZN</td>\n",
       "      <td>JPM</td>\n",
       "      <td>False</td>\n",
       "      <td>2024-09-20 21:24:52</td>\n",
       "      <td>2024-03-27 20:34:14</td>\n",
       "      <td>False</td>\n",
       "      <td>True</td>\n",
       "      <td>True</td>\n",
       "      <td>False</td>\n",
       "    </tr>\n",
       "  </tbody>\n",
       "</table>\n",
       "</div>"
      ],
      "text/plain": [
       "   trade_id  price_left  price_right  price_match  quantity_left  \\\n",
       "0  12042125      757.56       826.51        False           3745   \n",
       "1  14395215      488.92       538.41        False           6541   \n",
       "2  21767594      845.22       192.96        False           2187   \n",
       "3  24120271       46.75       315.96        False           8141   \n",
       "4   1705259      175.34       197.19        False           4009   \n",
       "\n",
       "   quantity_right  quantity_match trade_type_left trade_type_right  \\\n",
       "0            9777           False             BUY              BUY   \n",
       "1            3265           False            SELL             SELL   \n",
       "2            6797           False             BUY             SELL   \n",
       "3            8026           False            SELL              BUY   \n",
       "4            3961           False            SELL              BUY   \n",
       "\n",
       "   trade_type_match symbol_left symbol_right  symbol_match  \\\n",
       "0              True         WMT          JPM         False   \n",
       "1              True        META          JPM         False   \n",
       "2             False        AMZN          WMT         False   \n",
       "3             False        AMZN         MSFT         False   \n",
       "4             False        AMZN          JPM         False   \n",
       "\n",
       "       timestamp_left     timestamp_right  timestamp_match  _exists_left  \\\n",
       "0 2024-11-27 21:25:59 2024-06-08 20:35:31            False          True   \n",
       "1 2024-12-21 21:26:14 2024-10-26 20:35:48            False          True   \n",
       "2 2024-06-12 21:27:01 2024-08-16 20:36:42            False          True   \n",
       "3 2025-01-18 21:27:17 2024-12-05 20:37:00            False          True   \n",
       "4 2024-09-20 21:24:52 2024-03-27 20:34:14            False          True   \n",
       "\n",
       "   _exists_right  _full_match  \n",
       "0           True        False  \n",
       "1           True        False  \n",
       "2           True        False  \n",
       "3           True        False  \n",
       "4           True        False  "
      ]
     },
     "execution_count": 13,
     "metadata": {},
     "output_type": "execute_result"
    }
   ],
   "source": [
    "comparator.con.execute(\" WITH CTE as (SELECT * FROM  trade_compare WHERE _full_match = 0) SELECT * FROM CTE USING SAMPLE 5;\").fetch_df()"
   ]
  },
  {
   "cell_type": "markdown",
   "metadata": {},
   "source": [
    "#### Export to sqlite\n",
    "Function to export above tables to on-disk format. Sqlite is a popular single file database, well supported in many languages,  for which lots of query tools exist. See [Datasette](https://datasette.io/) package."
   ]
  },
  {
   "cell_type": "code",
   "execution_count": 15,
   "metadata": {},
   "outputs": [
    {
     "data": {
      "text/plain": [
       "'tradeCompare_2025-02-13.sqlite'"
      ]
     },
     "execution_count": 15,
     "metadata": {},
     "output_type": "execute_result"
    }
   ],
   "source": [
    "export_to_sqlite(comparator.con, f'{runName}.sqlite')"
   ]
  }
 ],
 "metadata": {
  "kernelspec": {
   "display_name": "venv",
   "language": "python",
   "name": "python3"
  },
  "language_info": {
   "codemirror_mode": {
    "name": "ipython",
    "version": 3
   },
   "file_extension": ".py",
   "mimetype": "text/x-python",
   "name": "python",
   "nbconvert_exporter": "python",
   "pygments_lexer": "ipython3",
   "version": "3.12.0"
  }
 },
 "nbformat": 4,
 "nbformat_minor": 2
}
