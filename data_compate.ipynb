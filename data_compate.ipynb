{
 "cells": [
  {
   "cell_type": "markdown",
   "metadata": {
    "notebookRunGroups": {
     "groupValue": "1"
    }
   },
   "source": [
    "## deltaLens Data Compare Sample"
   ]
  },
  {
   "cell_type": "code",
   "execution_count": 1,
   "metadata": {},
   "outputs": [],
   "source": [
    "#imports\n",
    "\n",
    "from delta_lens.deltaLens import DeltaLens, EntityComparer\n",
    "from delta_lens.config import Config, Entity, Side, Transform, Defaults,ReferenceDataset, load_config\n",
    "from delta_lens.sqliteExport import *\n",
    "from datetime import date"
   ]
  },
  {
   "cell_type": "code",
   "execution_count": 2,
   "metadata": {},
   "outputs": [],
   "source": [
    "#config\n",
    "\n",
    "config = load_config(\"data/compare.config.json\")\n"
   ]
  },
  {
   "cell_type": "code",
   "execution_count": 3,
   "metadata": {},
   "outputs": [],
   "source": [
    "runName = f'tradeCompare_{date.today().strftime(\"%Y-%m-%d\")}'\n",
    "\n",
    "comparator = DeltaLens(runName,config)\n",
    "\n",
    "comparator.execute(continue_on_error=True)\n",
    "\n"
   ]
  },
  {
   "cell_type": "markdown",
   "metadata": {},
   "source": [
    "#### entity_compare_results\n",
    "Table containing summary of each entity comparison"
   ]
  },
  {
   "cell_type": "code",
   "execution_count": 4,
   "metadata": {},
   "outputs": [
    {
     "data": {
      "text/html": [
       "<div>\n",
       "<style scoped>\n",
       "    .dataframe tbody tr th:only-of-type {\n",
       "        vertical-align: middle;\n",
       "    }\n",
       "\n",
       "    .dataframe tbody tr th {\n",
       "        vertical-align: top;\n",
       "    }\n",
       "\n",
       "    .dataframe thead th {\n",
       "        text-align: right;\n",
       "    }\n",
       "</style>\n",
       "<table border=\"1\" class=\"dataframe\">\n",
       "  <thead>\n",
       "    <tr style=\"text-align: right;\">\n",
       "      <th></th>\n",
       "      <th>entity</th>\n",
       "      <th>rows_left</th>\n",
       "      <th>rows_right</th>\n",
       "      <th>rows_fully_matched</th>\n",
       "      <th>error_text</th>\n",
       "      <th>success</th>\n",
       "    </tr>\n",
       "  </thead>\n",
       "  <tbody>\n",
       "    <tr>\n",
       "      <th>0</th>\n",
       "      <td>trade</td>\n",
       "      <td>42991209</td>\n",
       "      <td>43000000</td>\n",
       "      <td>42982369</td>\n",
       "      <td>None</td>\n",
       "      <td>1</td>\n",
       "    </tr>\n",
       "  </tbody>\n",
       "</table>\n",
       "</div>"
      ],
      "text/plain": [
       "  entity  rows_left  rows_right  rows_fully_matched error_text  success\n",
       "0  trade   42991209    43000000            42982369       None        1"
      ]
     },
     "execution_count": 4,
     "metadata": {},
     "output_type": "execute_result"
    }
   ],
   "source": [
    "comparator.con.execute(\"SELECT * FROM  entity_compare_results\").fetch_df()"
   ]
  },
  {
   "cell_type": "markdown",
   "metadata": {},
   "source": [
    "#### [entitiy]_compare_field_summary\n",
    "Entity specific table containing summary of field comparison"
   ]
  },
  {
   "cell_type": "code",
   "execution_count": 5,
   "metadata": {},
   "outputs": [
    {
     "data": {
      "text/html": [
       "<div>\n",
       "<style scoped>\n",
       "    .dataframe tbody tr th:only-of-type {\n",
       "        vertical-align: middle;\n",
       "    }\n",
       "\n",
       "    .dataframe tbody tr th {\n",
       "        vertical-align: top;\n",
       "    }\n",
       "\n",
       "    .dataframe thead th {\n",
       "        text-align: right;\n",
       "    }\n",
       "</style>\n",
       "<table border=\"1\" class=\"dataframe\">\n",
       "  <thead>\n",
       "    <tr style=\"text-align: right;\">\n",
       "      <th></th>\n",
       "      <th>field</th>\n",
       "      <th>total</th>\n",
       "      <th>matches</th>\n",
       "      <th>match_percentage</th>\n",
       "    </tr>\n",
       "  </thead>\n",
       "  <tbody>\n",
       "    <tr>\n",
       "      <th>0</th>\n",
       "      <td>price</td>\n",
       "      <td>42991209</td>\n",
       "      <td>42982369.0</td>\n",
       "      <td>99.980003</td>\n",
       "    </tr>\n",
       "    <tr>\n",
       "      <th>1</th>\n",
       "      <td>quantity</td>\n",
       "      <td>42991209</td>\n",
       "      <td>42991209.0</td>\n",
       "      <td>100.000000</td>\n",
       "    </tr>\n",
       "    <tr>\n",
       "      <th>2</th>\n",
       "      <td>symbol</td>\n",
       "      <td>42991209</td>\n",
       "      <td>42991209.0</td>\n",
       "      <td>100.000000</td>\n",
       "    </tr>\n",
       "    <tr>\n",
       "      <th>3</th>\n",
       "      <td>timestamp</td>\n",
       "      <td>42991209</td>\n",
       "      <td>42991209.0</td>\n",
       "      <td>100.000000</td>\n",
       "    </tr>\n",
       "    <tr>\n",
       "      <th>4</th>\n",
       "      <td>trade_type</td>\n",
       "      <td>42991209</td>\n",
       "      <td>42991209.0</td>\n",
       "      <td>100.000000</td>\n",
       "    </tr>\n",
       "  </tbody>\n",
       "</table>\n",
       "</div>"
      ],
      "text/plain": [
       "        field     total     matches  match_percentage\n",
       "0       price  42991209  42982369.0         99.980003\n",
       "1    quantity  42991209  42991209.0        100.000000\n",
       "2      symbol  42991209  42991209.0        100.000000\n",
       "3   timestamp  42991209  42991209.0        100.000000\n",
       "4  trade_type  42991209  42991209.0        100.000000"
      ]
     },
     "execution_count": 5,
     "metadata": {},
     "output_type": "execute_result"
    }
   ],
   "source": [
    "comparator.con.execute(\"SELECT * FROM trade_compare_field_summary\").fetch_df()"
   ]
  },
  {
   "cell_type": "markdown",
   "metadata": {},
   "source": [
    "#### [entity]_compare\n",
    "Entity specific table containing details of comparison"
   ]
  },
  {
   "cell_type": "code",
   "execution_count": 6,
   "metadata": {},
   "outputs": [
    {
     "data": {
      "text/html": [
       "<div>\n",
       "<style scoped>\n",
       "    .dataframe tbody tr th:only-of-type {\n",
       "        vertical-align: middle;\n",
       "    }\n",
       "\n",
       "    .dataframe tbody tr th {\n",
       "        vertical-align: top;\n",
       "    }\n",
       "\n",
       "    .dataframe thead th {\n",
       "        text-align: right;\n",
       "    }\n",
       "</style>\n",
       "<table border=\"1\" class=\"dataframe\">\n",
       "  <thead>\n",
       "    <tr style=\"text-align: right;\">\n",
       "      <th></th>\n",
       "      <th>trade_id</th>\n",
       "      <th>price_left</th>\n",
       "      <th>price_right</th>\n",
       "      <th>price_match</th>\n",
       "      <th>quantity_left</th>\n",
       "      <th>quantity_right</th>\n",
       "      <th>quantity_match</th>\n",
       "      <th>symbol_left</th>\n",
       "      <th>symbol_right</th>\n",
       "      <th>symbol_match</th>\n",
       "      <th>timestamp_left</th>\n",
       "      <th>timestamp_right</th>\n",
       "      <th>timestamp_match</th>\n",
       "      <th>trade_type_left</th>\n",
       "      <th>trade_type_right</th>\n",
       "      <th>trade_type_match</th>\n",
       "      <th>_exists_left</th>\n",
       "      <th>_exists_right</th>\n",
       "      <th>_full_match</th>\n",
       "    </tr>\n",
       "  </thead>\n",
       "  <tbody>\n",
       "    <tr>\n",
       "      <th>0</th>\n",
       "      <td>5888662</td>\n",
       "      <td>844.26</td>\n",
       "      <td>495.06</td>\n",
       "      <td>False</td>\n",
       "      <td>4748</td>\n",
       "      <td>4748</td>\n",
       "      <td>True</td>\n",
       "      <td>AAPL</td>\n",
       "      <td>AAPL</td>\n",
       "      <td>True</td>\n",
       "      <td>2024-09-24 04:57:51</td>\n",
       "      <td>2024-09-24 04:57:51</td>\n",
       "      <td>True</td>\n",
       "      <td>BUY</td>\n",
       "      <td>BUY</td>\n",
       "      <td>True</td>\n",
       "      <td>True</td>\n",
       "      <td>True</td>\n",
       "      <td>False</td>\n",
       "    </tr>\n",
       "    <tr>\n",
       "      <th>1</th>\n",
       "      <td>22936090</td>\n",
       "      <td>451.67</td>\n",
       "      <td>493.54</td>\n",
       "      <td>False</td>\n",
       "      <td>7513</td>\n",
       "      <td>7513</td>\n",
       "      <td>True</td>\n",
       "      <td>WMT</td>\n",
       "      <td>WMT</td>\n",
       "      <td>True</td>\n",
       "      <td>2024-08-12 05:00:57</td>\n",
       "      <td>2024-08-12 05:00:57</td>\n",
       "      <td>True</td>\n",
       "      <td>BUY</td>\n",
       "      <td>BUY</td>\n",
       "      <td>True</td>\n",
       "      <td>True</td>\n",
       "      <td>True</td>\n",
       "      <td>False</td>\n",
       "    </tr>\n",
       "    <tr>\n",
       "      <th>2</th>\n",
       "      <td>18041008</td>\n",
       "      <td>NaN</td>\n",
       "      <td>611.21</td>\n",
       "      <td>False</td>\n",
       "      <td>&lt;NA&gt;</td>\n",
       "      <td>7930</td>\n",
       "      <td>False</td>\n",
       "      <td>None</td>\n",
       "      <td>NVDA</td>\n",
       "      <td>False</td>\n",
       "      <td>NaT</td>\n",
       "      <td>2024-10-15 05:00:05</td>\n",
       "      <td>False</td>\n",
       "      <td>None</td>\n",
       "      <td>SELL</td>\n",
       "      <td>False</td>\n",
       "      <td>False</td>\n",
       "      <td>True</td>\n",
       "      <td>False</td>\n",
       "    </tr>\n",
       "    <tr>\n",
       "      <th>3</th>\n",
       "      <td>22680416</td>\n",
       "      <td>NaN</td>\n",
       "      <td>482.96</td>\n",
       "      <td>False</td>\n",
       "      <td>&lt;NA&gt;</td>\n",
       "      <td>1603</td>\n",
       "      <td>False</td>\n",
       "      <td>None</td>\n",
       "      <td>TSLA</td>\n",
       "      <td>False</td>\n",
       "      <td>NaT</td>\n",
       "      <td>2024-06-29 05:00:55</td>\n",
       "      <td>False</td>\n",
       "      <td>None</td>\n",
       "      <td>BUY</td>\n",
       "      <td>False</td>\n",
       "      <td>False</td>\n",
       "      <td>True</td>\n",
       "      <td>False</td>\n",
       "    </tr>\n",
       "    <tr>\n",
       "      <th>4</th>\n",
       "      <td>14311087</td>\n",
       "      <td>NaN</td>\n",
       "      <td>348.40</td>\n",
       "      <td>False</td>\n",
       "      <td>&lt;NA&gt;</td>\n",
       "      <td>6026</td>\n",
       "      <td>False</td>\n",
       "      <td>None</td>\n",
       "      <td>BAC</td>\n",
       "      <td>False</td>\n",
       "      <td>NaT</td>\n",
       "      <td>2024-08-16 04:59:24</td>\n",
       "      <td>False</td>\n",
       "      <td>None</td>\n",
       "      <td>BUY</td>\n",
       "      <td>False</td>\n",
       "      <td>False</td>\n",
       "      <td>True</td>\n",
       "      <td>False</td>\n",
       "    </tr>\n",
       "  </tbody>\n",
       "</table>\n",
       "</div>"
      ],
      "text/plain": [
       "   trade_id  price_left  price_right  price_match  quantity_left  \\\n",
       "0   5888662      844.26       495.06        False           4748   \n",
       "1  22936090      451.67       493.54        False           7513   \n",
       "2  18041008         NaN       611.21        False           <NA>   \n",
       "3  22680416         NaN       482.96        False           <NA>   \n",
       "4  14311087         NaN       348.40        False           <NA>   \n",
       "\n",
       "   quantity_right  quantity_match symbol_left symbol_right  symbol_match  \\\n",
       "0            4748            True        AAPL         AAPL          True   \n",
       "1            7513            True         WMT          WMT          True   \n",
       "2            7930           False        None         NVDA         False   \n",
       "3            1603           False        None         TSLA         False   \n",
       "4            6026           False        None          BAC         False   \n",
       "\n",
       "       timestamp_left     timestamp_right  timestamp_match trade_type_left  \\\n",
       "0 2024-09-24 04:57:51 2024-09-24 04:57:51             True             BUY   \n",
       "1 2024-08-12 05:00:57 2024-08-12 05:00:57             True             BUY   \n",
       "2                 NaT 2024-10-15 05:00:05            False            None   \n",
       "3                 NaT 2024-06-29 05:00:55            False            None   \n",
       "4                 NaT 2024-08-16 04:59:24            False            None   \n",
       "\n",
       "  trade_type_right  trade_type_match  _exists_left  _exists_right  _full_match  \n",
       "0              BUY              True          True           True        False  \n",
       "1              BUY              True          True           True        False  \n",
       "2             SELL             False         False           True        False  \n",
       "3              BUY             False         False           True        False  \n",
       "4              BUY             False         False           True        False  "
      ]
     },
     "execution_count": 6,
     "metadata": {},
     "output_type": "execute_result"
    }
   ],
   "source": [
    "comparator.con.execute(\" WITH CTE as (SELECT * FROM  trade_compare WHERE _full_match = 0) SELECT * FROM CTE USING SAMPLE 5;\").fetch_df()"
   ]
  },
  {
   "cell_type": "markdown",
   "metadata": {},
   "source": [
    "#### Export to sqlite\n",
    "Function to export above tables to on-disk format. Sqlite is a popular single file database, well supported in many languages,  for which lots of query tools exist. See [Datasette](https://datasette.io/) package."
   ]
  },
  {
   "cell_type": "code",
   "execution_count": 8,
   "metadata": {},
   "outputs": [
    {
     "data": {
      "text/plain": [
       "'tradeCompare_2025-02-14.sqlite'"
      ]
     },
     "execution_count": 8,
     "metadata": {},
     "output_type": "execute_result"
    }
   ],
   "source": [
    "export_to_sqlite(comparator.con, f'{runName}.sqlite')"
   ]
  }
 ],
 "metadata": {
  "kernelspec": {
   "display_name": "venv",
   "language": "python",
   "name": "python3"
  },
  "language_info": {
   "codemirror_mode": {
    "name": "ipython",
    "version": 3
   },
   "file_extension": ".py",
   "mimetype": "text/x-python",
   "name": "python",
   "nbconvert_exporter": "python",
   "pygments_lexer": "ipython3",
   "version": "3.12.1"
  }
 },
 "nbformat": 4,
 "nbformat_minor": 2
}
