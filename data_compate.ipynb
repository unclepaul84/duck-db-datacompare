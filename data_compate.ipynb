{
 "cells": [
  {
   "cell_type": "markdown",
   "metadata": {
    "notebookRunGroups": {
     "groupValue": "1"
    }
   },
   "source": [
    "## deltaLens Data Compare Sample"
   ]
  },
  {
   "cell_type": "code",
   "execution_count": 9,
   "metadata": {},
   "outputs": [],
   "source": [
    "#imports\n",
    "\n",
    "from delta_lens.deltaLens import DeltaLens, EntityComparer\n",
    "from delta_lens.config import Config, Entity, Side, Transform, Defaults,ReferenceDataset, load_config\n",
    "from delta_lens.sqliteExport import *\n",
    "from delta_lens.csvExport import *\n",
    "from datetime import date"
   ]
  },
  {
   "cell_type": "code",
   "execution_count": 2,
   "metadata": {},
   "outputs": [],
   "source": [
    "#config\n",
    "\n",
    "config = load_config(\"data/compare.config.json\")\n"
   ]
  },
  {
   "cell_type": "code",
   "execution_count": 3,
   "metadata": {},
   "outputs": [],
   "source": [
    "runName = f'tradeCompare_{date.today().strftime(\"%Y-%m-%d\")}'\n",
    "\n",
    "comparator = DeltaLens(runName,config)\n",
    "\n",
    "comparator.execute(continue_on_error=True)\n",
    "\n"
   ]
  },
  {
   "cell_type": "markdown",
   "metadata": {},
   "source": [
    "#### entity_compare_results\n",
    "Table containing summary of each entity comparison"
   ]
  },
  {
   "cell_type": "code",
   "execution_count": 4,
   "metadata": {},
   "outputs": [
    {
     "data": {
      "text/html": [
       "<div>\n",
       "<style scoped>\n",
       "    .dataframe tbody tr th:only-of-type {\n",
       "        vertical-align: middle;\n",
       "    }\n",
       "\n",
       "    .dataframe tbody tr th {\n",
       "        vertical-align: top;\n",
       "    }\n",
       "\n",
       "    .dataframe thead th {\n",
       "        text-align: right;\n",
       "    }\n",
       "</style>\n",
       "<table border=\"1\" class=\"dataframe\">\n",
       "  <thead>\n",
       "    <tr style=\"text-align: right;\">\n",
       "      <th></th>\n",
       "      <th>entity</th>\n",
       "      <th>rows_left</th>\n",
       "      <th>rows_right</th>\n",
       "      <th>rows_fully_matched</th>\n",
       "      <th>error_text</th>\n",
       "      <th>success</th>\n",
       "    </tr>\n",
       "  </thead>\n",
       "  <tbody>\n",
       "    <tr>\n",
       "      <th>0</th>\n",
       "      <td>trade</td>\n",
       "      <td>42999117</td>\n",
       "      <td>43000000</td>\n",
       "      <td>42113850</td>\n",
       "      <td>None</td>\n",
       "      <td>1</td>\n",
       "    </tr>\n",
       "  </tbody>\n",
       "</table>\n",
       "</div>"
      ],
      "text/plain": [
       "  entity  rows_left  rows_right  rows_fully_matched error_text  success\n",
       "0  trade   42999117    43000000            42113850       None        1"
      ]
     },
     "execution_count": 4,
     "metadata": {},
     "output_type": "execute_result"
    }
   ],
   "source": [
    "comparator.con.execute(\"SELECT * FROM  entity_compare_results\").fetch_df()"
   ]
  },
  {
   "cell_type": "markdown",
   "metadata": {},
   "source": [
    "#### [entitiy]_compare_field_summary\n",
    "Entity specific table containing summary of field comparison"
   ]
  },
  {
   "cell_type": "code",
   "execution_count": 5,
   "metadata": {},
   "outputs": [
    {
     "data": {
      "text/html": [
       "<div>\n",
       "<style scoped>\n",
       "    .dataframe tbody tr th:only-of-type {\n",
       "        vertical-align: middle;\n",
       "    }\n",
       "\n",
       "    .dataframe tbody tr th {\n",
       "        vertical-align: top;\n",
       "    }\n",
       "\n",
       "    .dataframe thead th {\n",
       "        text-align: right;\n",
       "    }\n",
       "</style>\n",
       "<table border=\"1\" class=\"dataframe\">\n",
       "  <thead>\n",
       "    <tr style=\"text-align: right;\">\n",
       "      <th></th>\n",
       "      <th>field</th>\n",
       "      <th>total</th>\n",
       "      <th>matches</th>\n",
       "      <th>match_percentage</th>\n",
       "    </tr>\n",
       "  </thead>\n",
       "  <tbody>\n",
       "    <tr>\n",
       "      <th>0</th>\n",
       "      <td>trade_type</td>\n",
       "      <td>42999117</td>\n",
       "      <td>42999117.0</td>\n",
       "      <td>100.000000</td>\n",
       "    </tr>\n",
       "    <tr>\n",
       "      <th>1</th>\n",
       "      <td>quantity</td>\n",
       "      <td>42999117</td>\n",
       "      <td>42999117.0</td>\n",
       "      <td>100.000000</td>\n",
       "    </tr>\n",
       "    <tr>\n",
       "      <th>2</th>\n",
       "      <td>price</td>\n",
       "      <td>42999117</td>\n",
       "      <td>42113850.0</td>\n",
       "      <td>97.940002</td>\n",
       "    </tr>\n",
       "    <tr>\n",
       "      <th>3</th>\n",
       "      <td>symbol</td>\n",
       "      <td>42999117</td>\n",
       "      <td>42999117.0</td>\n",
       "      <td>100.000000</td>\n",
       "    </tr>\n",
       "    <tr>\n",
       "      <th>4</th>\n",
       "      <td>timestamp</td>\n",
       "      <td>42999117</td>\n",
       "      <td>42999117.0</td>\n",
       "      <td>100.000000</td>\n",
       "    </tr>\n",
       "  </tbody>\n",
       "</table>\n",
       "</div>"
      ],
      "text/plain": [
       "        field     total     matches  match_percentage\n",
       "0  trade_type  42999117  42999117.0        100.000000\n",
       "1    quantity  42999117  42999117.0        100.000000\n",
       "2       price  42999117  42113850.0         97.940002\n",
       "3      symbol  42999117  42999117.0        100.000000\n",
       "4   timestamp  42999117  42999117.0        100.000000"
      ]
     },
     "execution_count": 5,
     "metadata": {},
     "output_type": "execute_result"
    }
   ],
   "source": [
    "comparator.con.execute(\"SELECT * FROM trade_compare_field_summary\").fetch_df()"
   ]
  },
  {
   "cell_type": "markdown",
   "metadata": {},
   "source": [
    "#### [entity]_compare\n",
    "Entity specific table containing details of comparison"
   ]
  },
  {
   "cell_type": "code",
   "execution_count": 6,
   "metadata": {},
   "outputs": [
    {
     "data": {
      "text/html": [
       "<div>\n",
       "<style scoped>\n",
       "    .dataframe tbody tr th:only-of-type {\n",
       "        vertical-align: middle;\n",
       "    }\n",
       "\n",
       "    .dataframe tbody tr th {\n",
       "        vertical-align: top;\n",
       "    }\n",
       "\n",
       "    .dataframe thead th {\n",
       "        text-align: right;\n",
       "    }\n",
       "</style>\n",
       "<table border=\"1\" class=\"dataframe\">\n",
       "  <thead>\n",
       "    <tr style=\"text-align: right;\">\n",
       "      <th></th>\n",
       "      <th>trade_id</th>\n",
       "      <th>trade_type_left</th>\n",
       "      <th>trade_type_right</th>\n",
       "      <th>trade_type_match</th>\n",
       "      <th>quantity_left</th>\n",
       "      <th>quantity_right</th>\n",
       "      <th>quantity_match</th>\n",
       "      <th>price_left</th>\n",
       "      <th>price_right</th>\n",
       "      <th>price_match</th>\n",
       "      <th>symbol_left</th>\n",
       "      <th>symbol_right</th>\n",
       "      <th>symbol_match</th>\n",
       "      <th>timestamp_left</th>\n",
       "      <th>timestamp_right</th>\n",
       "      <th>timestamp_match</th>\n",
       "      <th>_exists_left</th>\n",
       "      <th>_exists_right</th>\n",
       "      <th>_full_match</th>\n",
       "    </tr>\n",
       "  </thead>\n",
       "  <tbody>\n",
       "    <tr>\n",
       "      <th>0</th>\n",
       "      <td>3302447</td>\n",
       "      <td>BUY</td>\n",
       "      <td>BUY</td>\n",
       "      <td>True</td>\n",
       "      <td>1911</td>\n",
       "      <td>1911</td>\n",
       "      <td>True</td>\n",
       "      <td>586.75</td>\n",
       "      <td>320.37</td>\n",
       "      <td>False</td>\n",
       "      <td>BAC</td>\n",
       "      <td>BAC</td>\n",
       "      <td>True</td>\n",
       "      <td>2024-06-06 20:34:26</td>\n",
       "      <td>2024-06-06 20:34:26</td>\n",
       "      <td>True</td>\n",
       "      <td>True</td>\n",
       "      <td>True</td>\n",
       "      <td>False</td>\n",
       "    </tr>\n",
       "    <tr>\n",
       "      <th>1</th>\n",
       "      <td>17088349</td>\n",
       "      <td>SELL</td>\n",
       "      <td>SELL</td>\n",
       "      <td>True</td>\n",
       "      <td>26</td>\n",
       "      <td>26</td>\n",
       "      <td>True</td>\n",
       "      <td>433.52</td>\n",
       "      <td>259.64</td>\n",
       "      <td>False</td>\n",
       "      <td>META</td>\n",
       "      <td>META</td>\n",
       "      <td>True</td>\n",
       "      <td>2024-06-24 20:36:08</td>\n",
       "      <td>2024-06-24 20:36:08</td>\n",
       "      <td>True</td>\n",
       "      <td>True</td>\n",
       "      <td>True</td>\n",
       "      <td>False</td>\n",
       "    </tr>\n",
       "    <tr>\n",
       "      <th>2</th>\n",
       "      <td>24536981</td>\n",
       "      <td>BUY</td>\n",
       "      <td>BUY</td>\n",
       "      <td>True</td>\n",
       "      <td>1461</td>\n",
       "      <td>1461</td>\n",
       "      <td>True</td>\n",
       "      <td>329.42</td>\n",
       "      <td>93.86</td>\n",
       "      <td>False</td>\n",
       "      <td>AMZN</td>\n",
       "      <td>AMZN</td>\n",
       "      <td>True</td>\n",
       "      <td>2024-03-05 20:37:03</td>\n",
       "      <td>2024-03-05 20:37:03</td>\n",
       "      <td>True</td>\n",
       "      <td>True</td>\n",
       "      <td>True</td>\n",
       "      <td>False</td>\n",
       "    </tr>\n",
       "    <tr>\n",
       "      <th>3</th>\n",
       "      <td>24544036</td>\n",
       "      <td>SELL</td>\n",
       "      <td>SELL</td>\n",
       "      <td>True</td>\n",
       "      <td>6223</td>\n",
       "      <td>6223</td>\n",
       "      <td>True</td>\n",
       "      <td>45.60</td>\n",
       "      <td>822.31</td>\n",
       "      <td>False</td>\n",
       "      <td>AAPL</td>\n",
       "      <td>AAPL</td>\n",
       "      <td>True</td>\n",
       "      <td>2024-07-13 20:37:03</td>\n",
       "      <td>2024-07-13 20:37:03</td>\n",
       "      <td>True</td>\n",
       "      <td>True</td>\n",
       "      <td>True</td>\n",
       "      <td>False</td>\n",
       "    </tr>\n",
       "    <tr>\n",
       "      <th>4</th>\n",
       "      <td>24630286</td>\n",
       "      <td>BUY</td>\n",
       "      <td>BUY</td>\n",
       "      <td>True</td>\n",
       "      <td>2845</td>\n",
       "      <td>2845</td>\n",
       "      <td>True</td>\n",
       "      <td>904.55</td>\n",
       "      <td>500.03</td>\n",
       "      <td>False</td>\n",
       "      <td>BAC</td>\n",
       "      <td>BAC</td>\n",
       "      <td>True</td>\n",
       "      <td>2024-04-26 20:37:03</td>\n",
       "      <td>2024-04-26 20:37:03</td>\n",
       "      <td>True</td>\n",
       "      <td>True</td>\n",
       "      <td>True</td>\n",
       "      <td>False</td>\n",
       "    </tr>\n",
       "  </tbody>\n",
       "</table>\n",
       "</div>"
      ],
      "text/plain": [
       "   trade_id trade_type_left trade_type_right  trade_type_match  quantity_left  \\\n",
       "0   3302447             BUY              BUY              True           1911   \n",
       "1  17088349            SELL             SELL              True             26   \n",
       "2  24536981             BUY              BUY              True           1461   \n",
       "3  24544036            SELL             SELL              True           6223   \n",
       "4  24630286             BUY              BUY              True           2845   \n",
       "\n",
       "   quantity_right  quantity_match  price_left  price_right  price_match  \\\n",
       "0            1911            True      586.75       320.37        False   \n",
       "1              26            True      433.52       259.64        False   \n",
       "2            1461            True      329.42        93.86        False   \n",
       "3            6223            True       45.60       822.31        False   \n",
       "4            2845            True      904.55       500.03        False   \n",
       "\n",
       "  symbol_left symbol_right  symbol_match      timestamp_left  \\\n",
       "0         BAC          BAC          True 2024-06-06 20:34:26   \n",
       "1        META         META          True 2024-06-24 20:36:08   \n",
       "2        AMZN         AMZN          True 2024-03-05 20:37:03   \n",
       "3        AAPL         AAPL          True 2024-07-13 20:37:03   \n",
       "4         BAC          BAC          True 2024-04-26 20:37:03   \n",
       "\n",
       "      timestamp_right  timestamp_match  _exists_left  _exists_right  \\\n",
       "0 2024-06-06 20:34:26             True          True           True   \n",
       "1 2024-06-24 20:36:08             True          True           True   \n",
       "2 2024-03-05 20:37:03             True          True           True   \n",
       "3 2024-07-13 20:37:03             True          True           True   \n",
       "4 2024-04-26 20:37:03             True          True           True   \n",
       "\n",
       "   _full_match  \n",
       "0        False  \n",
       "1        False  \n",
       "2        False  \n",
       "3        False  \n",
       "4        False  "
      ]
     },
     "execution_count": 6,
     "metadata": {},
     "output_type": "execute_result"
    }
   ],
   "source": [
    "comparator.con.execute(\" WITH CTE as (SELECT * FROM  trade_compare WHERE _full_match = 0) SELECT * FROM CTE USING SAMPLE 5;\").fetch_df()"
   ]
  },
  {
   "cell_type": "markdown",
   "metadata": {},
   "source": [
    "#### Export to sqlite\n",
    "Function to export above tables to on-disk format. Sqlite is a popular single file database, well supported in many languages,  for which lots of query tools exist. See [Datasette](https://datasette.io/) package."
   ]
  },
  {
   "cell_type": "code",
   "execution_count": 7,
   "metadata": {},
   "outputs": [
    {
     "data": {
      "text/plain": [
       "'tradeCompare_2025-02-15.sqlite'"
      ]
     },
     "execution_count": 7,
     "metadata": {},
     "output_type": "execute_result"
    }
   ],
   "source": [
    "export_to_sqlite(comparator.con, f'{runName}.sqlite')"
   ]
  },
  {
   "cell_type": "code",
   "execution_count": 10,
   "metadata": {},
   "outputs": [
    {
     "data": {
      "text/plain": [
       "'tradeCompare_2025-02-15.tar.gz'"
      ]
     },
     "execution_count": 10,
     "metadata": {},
     "output_type": "execute_result"
    }
   ],
   "source": [
    "export_to_csv_archive(comparator.con,f'{runName}.tar.gz' )"
   ]
  }
 ],
 "metadata": {
  "kernelspec": {
   "display_name": "venv",
   "language": "python",
   "name": "python3"
  },
  "language_info": {
   "codemirror_mode": {
    "name": "ipython",
    "version": 3
   },
   "file_extension": ".py",
   "mimetype": "text/x-python",
   "name": "python",
   "nbconvert_exporter": "python",
   "pygments_lexer": "ipython3",
   "version": "3.12.1"
  }
 },
 "nbformat": 4,
 "nbformat_minor": 2
}
