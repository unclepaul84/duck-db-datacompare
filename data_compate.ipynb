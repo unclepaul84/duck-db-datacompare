{
 "cells": [
  {
   "cell_type": "markdown",
   "metadata": {
    "notebookRunGroups": {
     "groupValue": "1"
    }
   },
   "source": [
    "## deltaLens Data Compare Sample"
   ]
  },
  {
   "cell_type": "code",
   "execution_count": 1,
   "metadata": {},
   "outputs": [],
   "source": [
    "#imports\n",
    "\n",
    "from delta_lens.deltaLens import DeltaLens, EntityComparer\n",
    "from delta_lens.config import Config, Entity, Side, Transform, Defaults,ReferenceDataset, load_config\n",
    "from delta_lens.sqliteExport import *\n",
    "from datetime import date"
   ]
  },
  {
   "cell_type": "code",
   "execution_count": null,
   "metadata": {},
   "outputs": [
    {
     "ename": "",
     "evalue": "",
     "output_type": "error",
     "traceback": [
      "\u001b[1;31mThe Kernel crashed while executing code in the current cell or a previous cell. \n",
      "\u001b[1;31mPlease review the code in the cell(s) to identify a possible cause of the failure. \n",
      "\u001b[1;31mClick <a href='https://aka.ms/vscodeJupyterKernelCrash'>here</a> for more info. \n",
      "\u001b[1;31mView Jupyter <a href='command:jupyter.viewOutput'>log</a> for further details."
     ]
    }
   ],
   "source": [
    "#config\n",
    "\n",
    "config = load_config(\"data/compare.config.json\")\n"
   ]
  },
  {
   "cell_type": "code",
   "execution_count": null,
   "metadata": {},
   "outputs": [],
   "source": [
    "runName = f'tradeCompare_{date.today().strftime(\"%Y-%m-%d\")}'\n",
    "\n",
    "comparator = DeltaLens(runName,config)\n",
    "\n",
    "comparator.execute(continue_on_error=True)\n",
    "\n"
   ]
  },
  {
   "cell_type": "markdown",
   "metadata": {},
   "source": [
    "#### entity_compare_results\n",
    "Table containing summary of each entity comparison"
   ]
  },
  {
   "cell_type": "code",
   "execution_count": null,
   "metadata": {},
   "outputs": [
    {
     "data": {
      "text/html": [
       "<div>\n",
       "<style scoped>\n",
       "    .dataframe tbody tr th:only-of-type {\n",
       "        vertical-align: middle;\n",
       "    }\n",
       "\n",
       "    .dataframe tbody tr th {\n",
       "        vertical-align: top;\n",
       "    }\n",
       "\n",
       "    .dataframe thead th {\n",
       "        text-align: right;\n",
       "    }\n",
       "</style>\n",
       "<table border=\"1\" class=\"dataframe\">\n",
       "  <thead>\n",
       "    <tr style=\"text-align: right;\">\n",
       "      <th></th>\n",
       "      <th>entity</th>\n",
       "      <th>rows_left</th>\n",
       "      <th>rows_right</th>\n",
       "      <th>rows_fully_matched</th>\n",
       "      <th>error_text</th>\n",
       "      <th>success</th>\n",
       "    </tr>\n",
       "  </thead>\n",
       "  <tbody>\n",
       "    <tr>\n",
       "      <th>0</th>\n",
       "      <td>trade</td>\n",
       "      <td>42999117</td>\n",
       "      <td>43000000</td>\n",
       "      <td>42113850</td>\n",
       "      <td>None</td>\n",
       "      <td>1</td>\n",
       "    </tr>\n",
       "  </tbody>\n",
       "</table>\n",
       "</div>"
      ],
      "text/plain": [
       "  entity  rows_left  rows_right  rows_fully_matched error_text  success\n",
       "0  trade   42999117    43000000            42113850       None        1"
      ]
     },
     "execution_count": 4,
     "metadata": {},
     "output_type": "execute_result"
    }
   ],
   "source": [
    "comparator.con.execute(\"SELECT * FROM  entity_compare_results\").fetch_df()"
   ]
  },
  {
   "cell_type": "markdown",
   "metadata": {},
   "source": [
    "#### [entitiy]_compare_field_summary\n",
    "Entity specific table containing summary of field comparison"
   ]
  },
  {
   "cell_type": "code",
   "execution_count": null,
   "metadata": {},
   "outputs": [
    {
     "data": {
      "text/html": [
       "<div>\n",
       "<style scoped>\n",
       "    .dataframe tbody tr th:only-of-type {\n",
       "        vertical-align: middle;\n",
       "    }\n",
       "\n",
       "    .dataframe tbody tr th {\n",
       "        vertical-align: top;\n",
       "    }\n",
       "\n",
       "    .dataframe thead th {\n",
       "        text-align: right;\n",
       "    }\n",
       "</style>\n",
       "<table border=\"1\" class=\"dataframe\">\n",
       "  <thead>\n",
       "    <tr style=\"text-align: right;\">\n",
       "      <th></th>\n",
       "      <th>field</th>\n",
       "      <th>total</th>\n",
       "      <th>matches</th>\n",
       "      <th>match_percentage</th>\n",
       "    </tr>\n",
       "  </thead>\n",
       "  <tbody>\n",
       "    <tr>\n",
       "      <th>0</th>\n",
       "      <td>trade_type</td>\n",
       "      <td>42999117</td>\n",
       "      <td>42999117.0</td>\n",
       "      <td>100.000000</td>\n",
       "    </tr>\n",
       "    <tr>\n",
       "      <th>1</th>\n",
       "      <td>quantity</td>\n",
       "      <td>42999117</td>\n",
       "      <td>42999117.0</td>\n",
       "      <td>100.000000</td>\n",
       "    </tr>\n",
       "    <tr>\n",
       "      <th>2</th>\n",
       "      <td>price</td>\n",
       "      <td>42999117</td>\n",
       "      <td>42113850.0</td>\n",
       "      <td>97.940002</td>\n",
       "    </tr>\n",
       "    <tr>\n",
       "      <th>3</th>\n",
       "      <td>timestamp</td>\n",
       "      <td>42999117</td>\n",
       "      <td>42999117.0</td>\n",
       "      <td>100.000000</td>\n",
       "    </tr>\n",
       "    <tr>\n",
       "      <th>4</th>\n",
       "      <td>symbol</td>\n",
       "      <td>42999117</td>\n",
       "      <td>42999117.0</td>\n",
       "      <td>100.000000</td>\n",
       "    </tr>\n",
       "  </tbody>\n",
       "</table>\n",
       "</div>"
      ],
      "text/plain": [
       "        field     total     matches  match_percentage\n",
       "0  trade_type  42999117  42999117.0        100.000000\n",
       "1    quantity  42999117  42999117.0        100.000000\n",
       "2       price  42999117  42113850.0         97.940002\n",
       "3   timestamp  42999117  42999117.0        100.000000\n",
       "4      symbol  42999117  42999117.0        100.000000"
      ]
     },
     "execution_count": 5,
     "metadata": {},
     "output_type": "execute_result"
    }
   ],
   "source": [
    "comparator.con.execute(\"SELECT * FROM trade_compare_field_summary\").fetch_df()"
   ]
  },
  {
   "cell_type": "markdown",
   "metadata": {},
   "source": [
    "#### [entity]_compare\n",
    "Entity specific table containing details of comparison"
   ]
  },
  {
   "cell_type": "code",
   "execution_count": null,
   "metadata": {},
   "outputs": [
    {
     "data": {
      "text/html": [
       "<div>\n",
       "<style scoped>\n",
       "    .dataframe tbody tr th:only-of-type {\n",
       "        vertical-align: middle;\n",
       "    }\n",
       "\n",
       "    .dataframe tbody tr th {\n",
       "        vertical-align: top;\n",
       "    }\n",
       "\n",
       "    .dataframe thead th {\n",
       "        text-align: right;\n",
       "    }\n",
       "</style>\n",
       "<table border=\"1\" class=\"dataframe\">\n",
       "  <thead>\n",
       "    <tr style=\"text-align: right;\">\n",
       "      <th></th>\n",
       "      <th>trade_id</th>\n",
       "      <th>trade_type_left</th>\n",
       "      <th>trade_type_right</th>\n",
       "      <th>trade_type_match</th>\n",
       "      <th>quantity_left</th>\n",
       "      <th>quantity_right</th>\n",
       "      <th>quantity_match</th>\n",
       "      <th>price_left</th>\n",
       "      <th>price_right</th>\n",
       "      <th>price_match</th>\n",
       "      <th>timestamp_left</th>\n",
       "      <th>timestamp_right</th>\n",
       "      <th>timestamp_match</th>\n",
       "      <th>symbol_left</th>\n",
       "      <th>symbol_right</th>\n",
       "      <th>symbol_match</th>\n",
       "      <th>_exists_left</th>\n",
       "      <th>_exists_right</th>\n",
       "      <th>_full_match</th>\n",
       "    </tr>\n",
       "  </thead>\n",
       "  <tbody>\n",
       "    <tr>\n",
       "      <th>0</th>\n",
       "      <td>1347595</td>\n",
       "      <td>BUY</td>\n",
       "      <td>BUY</td>\n",
       "      <td>True</td>\n",
       "      <td>67</td>\n",
       "      <td>67</td>\n",
       "      <td>True</td>\n",
       "      <td>516.82</td>\n",
       "      <td>146.48</td>\n",
       "      <td>False</td>\n",
       "      <td>2024-06-12 20:34:12</td>\n",
       "      <td>2024-06-12 20:34:12</td>\n",
       "      <td>True</td>\n",
       "      <td>BAC</td>\n",
       "      <td>BAC</td>\n",
       "      <td>True</td>\n",
       "      <td>True</td>\n",
       "      <td>True</td>\n",
       "      <td>False</td>\n",
       "    </tr>\n",
       "    <tr>\n",
       "      <th>1</th>\n",
       "      <td>11688365</td>\n",
       "      <td>BUY</td>\n",
       "      <td>BUY</td>\n",
       "      <td>True</td>\n",
       "      <td>7613</td>\n",
       "      <td>7613</td>\n",
       "      <td>True</td>\n",
       "      <td>720.50</td>\n",
       "      <td>492.27</td>\n",
       "      <td>False</td>\n",
       "      <td>2024-04-16 20:35:28</td>\n",
       "      <td>2024-04-16 20:35:28</td>\n",
       "      <td>True</td>\n",
       "      <td>TSLA</td>\n",
       "      <td>TSLA</td>\n",
       "      <td>True</td>\n",
       "      <td>True</td>\n",
       "      <td>True</td>\n",
       "      <td>False</td>\n",
       "    </tr>\n",
       "    <tr>\n",
       "      <th>2</th>\n",
       "      <td>16660286</td>\n",
       "      <td>BUY</td>\n",
       "      <td>BUY</td>\n",
       "      <td>True</td>\n",
       "      <td>2974</td>\n",
       "      <td>2974</td>\n",
       "      <td>True</td>\n",
       "      <td>717.42</td>\n",
       "      <td>196.39</td>\n",
       "      <td>False</td>\n",
       "      <td>2024-06-28 20:36:04</td>\n",
       "      <td>2024-06-28 20:36:04</td>\n",
       "      <td>True</td>\n",
       "      <td>TSLA</td>\n",
       "      <td>TSLA</td>\n",
       "      <td>True</td>\n",
       "      <td>True</td>\n",
       "      <td>True</td>\n",
       "      <td>False</td>\n",
       "    </tr>\n",
       "    <tr>\n",
       "      <th>3</th>\n",
       "      <td>21232731</td>\n",
       "      <td>BUY</td>\n",
       "      <td>BUY</td>\n",
       "      <td>True</td>\n",
       "      <td>594</td>\n",
       "      <td>594</td>\n",
       "      <td>True</td>\n",
       "      <td>19.40</td>\n",
       "      <td>390.79</td>\n",
       "      <td>False</td>\n",
       "      <td>2024-04-17 20:36:38</td>\n",
       "      <td>2024-04-17 20:36:38</td>\n",
       "      <td>True</td>\n",
       "      <td>NVDA</td>\n",
       "      <td>NVDA</td>\n",
       "      <td>True</td>\n",
       "      <td>True</td>\n",
       "      <td>True</td>\n",
       "      <td>False</td>\n",
       "    </tr>\n",
       "    <tr>\n",
       "      <th>4</th>\n",
       "      <td>25537902</td>\n",
       "      <td>BUY</td>\n",
       "      <td>BUY</td>\n",
       "      <td>True</td>\n",
       "      <td>2989</td>\n",
       "      <td>2989</td>\n",
       "      <td>True</td>\n",
       "      <td>314.71</td>\n",
       "      <td>340.96</td>\n",
       "      <td>False</td>\n",
       "      <td>2024-03-24 20:37:10</td>\n",
       "      <td>2024-03-24 20:37:10</td>\n",
       "      <td>True</td>\n",
       "      <td>AAPL</td>\n",
       "      <td>AAPL</td>\n",
       "      <td>True</td>\n",
       "      <td>True</td>\n",
       "      <td>True</td>\n",
       "      <td>False</td>\n",
       "    </tr>\n",
       "  </tbody>\n",
       "</table>\n",
       "</div>"
      ],
      "text/plain": [
       "   trade_id trade_type_left trade_type_right  trade_type_match  quantity_left  \\\n",
       "0   1347595             BUY              BUY              True             67   \n",
       "1  11688365             BUY              BUY              True           7613   \n",
       "2  16660286             BUY              BUY              True           2974   \n",
       "3  21232731             BUY              BUY              True            594   \n",
       "4  25537902             BUY              BUY              True           2989   \n",
       "\n",
       "   quantity_right  quantity_match  price_left  price_right  price_match  \\\n",
       "0              67            True      516.82       146.48        False   \n",
       "1            7613            True      720.50       492.27        False   \n",
       "2            2974            True      717.42       196.39        False   \n",
       "3             594            True       19.40       390.79        False   \n",
       "4            2989            True      314.71       340.96        False   \n",
       "\n",
       "       timestamp_left     timestamp_right  timestamp_match symbol_left  \\\n",
       "0 2024-06-12 20:34:12 2024-06-12 20:34:12             True         BAC   \n",
       "1 2024-04-16 20:35:28 2024-04-16 20:35:28             True        TSLA   \n",
       "2 2024-06-28 20:36:04 2024-06-28 20:36:04             True        TSLA   \n",
       "3 2024-04-17 20:36:38 2024-04-17 20:36:38             True        NVDA   \n",
       "4 2024-03-24 20:37:10 2024-03-24 20:37:10             True        AAPL   \n",
       "\n",
       "  symbol_right  symbol_match  _exists_left  _exists_right  _full_match  \n",
       "0          BAC          True          True           True        False  \n",
       "1         TSLA          True          True           True        False  \n",
       "2         TSLA          True          True           True        False  \n",
       "3         NVDA          True          True           True        False  \n",
       "4         AAPL          True          True           True        False  "
      ]
     },
     "execution_count": 6,
     "metadata": {},
     "output_type": "execute_result"
    }
   ],
   "source": [
    "comparator.con.execute(\" WITH CTE as (SELECT * FROM  trade_compare WHERE _full_match = 0) SELECT * FROM CTE USING SAMPLE 5;\").fetch_df()"
   ]
  },
  {
   "cell_type": "markdown",
   "metadata": {},
   "source": [
    "#### Export to sqlite\n",
    "Function to export above tables to on-disk format. Sqlite is a popular single file database, well supported in many languages,  for which lots of query tools exist. See [Datasette](https://datasette.io/) package."
   ]
  },
  {
   "cell_type": "code",
   "execution_count": null,
   "metadata": {},
   "outputs": [
    {
     "data": {
      "text/plain": [
       "'tradeCompare_2025-02-13.sqlite'"
      ]
     },
     "execution_count": 7,
     "metadata": {},
     "output_type": "execute_result"
    }
   ],
   "source": [
    "export_to_sqlite(comparator.con, f'{runName}.sqlite')"
   ]
  }
 ],
 "metadata": {
  "kernelspec": {
   "display_name": "venv",
   "language": "python",
   "name": "python3"
  },
  "language_info": {
   "codemirror_mode": {
    "name": "ipython",
    "version": 3
   },
   "file_extension": ".py",
   "mimetype": "text/x-python",
   "name": "python",
   "nbconvert_exporter": "python",
   "pygments_lexer": "ipython3",
   "version": "3.12.1"
  }
 },
 "nbformat": 4,
 "nbformat_minor": 2
}
